{
 "cells": [
  {
   "cell_type": "markdown",
   "metadata": {},
   "source": [
    "Group members\n",
    "-Nubuhoro Divine 673390\n",
    "-Igiraneza Eliphaz 673344\n",
    "-viola awuor okello 673013\n",
    "-Manuela Atuhurire -667294\n",
    "-Maker penom - 673168\n",
    "-grace muguna"
   ]
  }
 ],
 "metadata": {
  "kernelspec": {
   "display_name": "Python 3",
   "language": "python",
   "name": "python3"
  },
  "language_info": {
   "name": "python",
   "version": "3.12.6"
  }
 },
 "nbformat": 4,
 "nbformat_minor": 5
}
