{
 "cells": [
  {
   "cell_type": "markdown",
   "metadata": {},
   "source": [
    "Group members\n",
    "-Nubuhoro Divine 673390\n",
    "-Igiraneza Eliphaz 673344\n",
    "-viola awuor okello 673013\n",
    "-Manuela Atuhurire -667294\n",
    "-Maker penom - 673168\n",
    "-grace muguna"
   ]
  },
  {
   "cell_type": "markdown",
   "metadata": {},
   "source": [
    "Question 1"
   ]
  },
  {
   "cell_type": "code",
   "execution_count": null,
   "metadata": {},
   "outputs": [
    {
     "name": "stdout",
     "output_type": "stream",
     "text": [
      "Input Scores: [56, 89, 90, 10]\n",
      "Grade Counts: {'A': 1, 'B': 1, 'C': 0, 'D': 0, 'F': 2}\n"
     ]
    }
   ],
   "source": [
    "# Define the function\n",
    "def classify_grades():\n",
    "    # Prompt the user for input\n",
    "    scores = input(\"Enter the list of scores separated by spaces: \")\n",
    "    \n",
    "    # Convert the input string into a list of integers\n",
    "    scores = list(map(int, scores.split()))\n",
    "    \n",
    "    # Initialize grade counts\n",
    "    grade_counts = {\"A\": 0, \"B\": 0, \"C\": 0, \"D\": 0, \"F\": 0}\n",
    "    \n",
    "    # Classify each score into grades\n",
    "    for score in scores:\n",
    "        if 90 <= score <= 100:\n",
    "            grade_counts[\"A\"] += 1\n",
    "        elif 80 <= score <= 89:\n",
    "            grade_counts[\"B\"] += 1\n",
    "        elif 70 <= score <= 79:\n",
    "            grade_counts[\"C\"] += 1\n",
    "        elif 60 <= score <= 69:\n",
    "            grade_counts[\"D\"] += 1\n",
    "        else:\n",
    "            grade_counts[\"F\"] += 1\n",
    "    \n",
    "    # Print the input scores and the grade counts\n",
    "    print(\"Input Scores:\", scores)\n",
    "    print(\"Grade Counts:\", grade_counts)\n",
    "\n",
    "# Call the function\n",
    "classify_grades()\n"
   ]
  },
  {
   "cell_type": "markdown",
   "id": "cf16db1c",
   "metadata": {},
   "source": [
    "Question 4"
   ]
  },
  {
   "cell_type": "code",
   "execution_count": 1,
   "id": "7449bb30",
   "metadata": {},
   "outputs": [
    {
     "name": "stdout",
     "output_type": "stream",
     "text": [
      "1 \n",
      "2 4 \n",
      "3 6 9 \n",
      "4 8 12 16 \n"
     ]
    }
   ],
   "source": [
    "# Nested Loop pattern \n",
    "r = 4 #number of rows for the pattern\n",
    "for x in range(1, r + 1): #loop(outer) for each row (from 1 to \"r\")\n",
    "    for y in range(1, x + 1): # loop(inner) for each column in the current row (from 1 to current row number)\n",
    "        print(x * y, end=' ') # output of the product of the row and column index, with a space after (no newline))\n",
    "    print() # Printing a newline after a completion of each row"
   ]
  }
 ],
 "metadata": {
  "kernelspec": {
   "display_name": "Python 3",
   "language": "python",
   "name": "python3"
  },
  "language_info": {
   "codemirror_mode": {
    "name": "ipython",
    "version": 3
   },
   "file_extension": ".py",
   "mimetype": "text/x-python",
   "name": "python",
   "nbconvert_exporter": "python",
   "pygments_lexer": "ipython3",
   "version": "3.12.6"
  }
 },
 "nbformat": 4,
 "nbformat_minor": 5
}
