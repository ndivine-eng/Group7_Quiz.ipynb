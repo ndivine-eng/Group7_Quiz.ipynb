{
 "cells": [
  {
   "cell_type": "markdown",
   "metadata": {},
   "source": [
    "Group members\n",
    "-Nubuhoro Divine 673390\n",
    "-Igiraneza Eliphaz 673344\n",
    "-viola awuor okello 673013\n",
    "-Manuela Atuhurire -667294\n",
    "-Maker penom - 673168\n",
    "-grace muguna"
   ]
  },
  {
   "cell_type": "code",
   "execution_count": 11,
   "metadata": {},
   "outputs": [
    {
     "name": "stdout",
     "output_type": "stream",
     "text": [
      "\n",
      "Grade Distribution:\n",
      "A: 0\n",
      "B: 0\n",
      "C: 1\n",
      "D: 0\n",
      "F: 0\n"
     ]
    }
   ],
   "source": [
    "def classify_grades(scores):\n",
    "    grade_counts = {'A': 0, 'B': 0, 'C': 0, 'D': 0, 'F': 0}\n",
    "    for score in scores:\n",
    "        if score >= 90:\n",
    "            grade_counts['A'] += 1\n",
    "        elif score >= 80:\n",
    "            grade_counts['B'] += 1\n",
    "        elif score >= 70:\n",
    "            grade_counts['C'] += 1\n",
    "        elif score >= 60:\n",
    "            grade_counts['D'] += 1\n",
    "        else:\n",
    "            grade_counts['F'] += 1\n",
    "    return grade_counts\n",
    "\n",
    "# Get user input\n",
    "scores_input = input(\"Enter your scores separated by spaces or commas: \")\n",
    "\n",
    "# Convert input to numerical values\n",
    "entries = scores_input.replace(',', ' ').split()\n",
    "scores = []\n",
    "for entry in entries:\n",
    "    try:\n",
    "        scores.append(float(entry))\n",
    "    except ValueError:\n",
    "        print(f\"⚠️  Invalid entry ignored: {entry}\")\n",
    "\n",
    "# Generate and display results\n",
    "result = classify_grades(scores)\n",
    "print(\"\\nGrade Distribution:\")\n",
    "for grade, count in result.items():\n",
    "    print(f\"{grade}: {count}\")"
   ]
  }
 ],
 "metadata": {
  "kernelspec": {
   "display_name": "Python 3",
   "language": "python",
   "name": "python3"
  },
  "language_info": {
   "codemirror_mode": {
    "name": "ipython",
    "version": 3
   },
   "file_extension": ".py",
   "mimetype": "text/x-python",
   "name": "python",
   "nbconvert_exporter": "python",
   "pygments_lexer": "ipython3",
   "version": "3.12.6"
  }
 },
 "nbformat": 4,
 "nbformat_minor": 5
}
