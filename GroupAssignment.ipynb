{
 "cells": [
  {
   "cell_type": "markdown",
   "metadata": {},
   "source": [
    "Group members\n",
    "-Nubuhoro Divine 673390\n",
    "-Igiraneza Eliphaz 673344\n",
    "-viola awuor okello 673013\n",
    "-Manuela Atuhurire -665404\n",
    "-Maker penom - 673168\n",
    "-grace muguna"
   ]
  },
  {
   "cell_type": "markdown",
   "metadata": {},
   "source": [
    "Question 1"
   ]
  },
  {
   "cell_type": "code",
   "execution_count": 4,
   "metadata": {},
   "outputs": [
    {
     "name": "stdout",
     "output_type": "stream",
     "text": [
      "Input Scores: [56, 89, 90, 10, 49]\n",
      "Grade Counts: {'A': 1, 'B': 1, 'C': 0, 'D': 0, 'F': 3}\n"
     ]
    }
   ],
   "source": [
    "# Define the function\n",
    "def classify_grades():\n",
    "    # Prompt the user for input\n",
    "    scores = input(\"Enter the list of scores separated by spaces: \")\n",
    "    \n",
    "    # Convert the input string into a list of integers\n",
    "    scores = list(map(int, scores.split()))\n",
    "    \n",
    "    # Initialize grade counts\n",
    "    grade_counts = {\"A\": 0, \"B\": 0, \"C\": 0, \"D\": 0, \"F\": 0}\n",
    "    \n",
    "    # Classify each score into grades\n",
    "    for score in scores:\n",
    "        if 90 <= score <= 100:\n",
    "            grade_counts[\"A\"] += 1\n",
    "        elif 80 <= score <= 89:\n",
    "            grade_counts[\"B\"] += 1\n",
    "        elif 70 <= score <= 79:\n",
    "            grade_counts[\"C\"] += 1\n",
    "        elif 60 <= score <= 69:\n",
    "            grade_counts[\"D\"] += 1\n",
    "        else:\n",
    "            grade_counts[\"F\"] += 1\n",
    "    \n",
    "    # Print the input scores and the grade counts\n",
    "    print(\"Input Scores:\", scores)\n",
    "    print(\"Grade Counts:\", grade_counts)\n",
    "\n",
    "# Call the function\n",
    "classify_grades()\n"
   ]
  },
  {
   "cell_type": "markdown",
   "id": "773be758",
   "metadata": {},
   "source": [
    "Question 2"
   ]
  },
  {
   "cell_type": "code",
   "execution_count": 1,
   "id": "126502df",
   "metadata": {},
   "outputs": [
    {
     "name": "stdout",
     "output_type": "stream",
     "text": [
      "[2, 3, 5, 7, 11, 13, 17, 19, 23, 29]\n"
     ]
    }
   ],
   "source": [
    "#finding the first 10 prime number\n",
    "def is_prime(num):\n",
    "    if num < 2:\n",
    "        return False\n",
    "    for i in range(2, int(num ** 0.5) + 1):\n",
    "        if num % i == 0:\n",
    "            return False\n",
    "    return True\n",
    "\n",
    "def find_primes(n):\n",
    "    primes = []\n",
    "    num = 2\n",
    "    while len(primes) < n:\n",
    "        if is_prime(num):\n",
    "            primes.append(num)\n",
    "        num += 1\n",
    "    return primes\n",
    "\n",
    "# Examples usage\n",
    "print(find_primes(10))"
   ]
  },
  {
   "cell_type": "markdown",
   "id": "c2e7b057",
   "metadata": {},
   "source": [
    "Quetion 3 Password Validator"
   ]
  },
  {
   "cell_type": "code",
   "execution_count": 3,
   "id": "7b06cba8",
   "metadata": {},
   "outputs": [
    {
     "name": "stdout",
     "output_type": "stream",
     "text": [
      "Your password is valid.\n"
     ]
    }
   ],
   "source": [
    "def is_valid_password(password):\n",
    "    # Check if the password has at least 8 characters\n",
    "    if len(password) < 8:\n",
    "        return False  # It will return false if the password is less than 8 characters\n",
    "    \n",
    "    # Check if there's at least one uppercase letter\n",
    "    check_upper = any(c.isupper() for c in password)\n",
    "    \n",
    "    # Check if there's at least one digit\n",
    "    check_digit = any(c.isdigit() for c in password)\n",
    "    \n",
    "    # Check if there's at least one special character\n",
    "    check_special = any(c in \"!@#$%^&*\" for c in password)\n",
    "    \n",
    "    # Return True if all conditions are met\n",
    "    return check_upper and check_digit and check_special\n",
    "\n",
    "# Prompt the users to input a password\n",
    "password = input(\"Enter your password: \")\n",
    "\n",
    "# Check and print the result of the password validation\n",
    "if is_valid_password(password):\n",
    "    print(\"Your password is valid.\")\n",
    "else:\n",
    "    print(\"The password is invalid. It must have at least 8 characters, one uppercase letter, one number, and one special character.\")"
   ]
  },
  {
   "cell_type": "markdown",
   "id": "39c4d24d",
   "metadata": {},
   "source": [
    "Question 4 Nested loop pattern\n"
   ]
  },
  {
   "cell_type": "code",
   "execution_count": 2,
   "id": "452e625e",
   "metadata": {},
   "outputs": [
    {
     "name": "stdout",
     "output_type": "stream",
     "text": [
      "1 \n",
      "2 4 \n",
      "3 6 9 \n",
      "4 8 12 16 \n"
     ]
    }
   ],
   "source": [
    "# Nested Loop pattern \n",
    "r = 4 #number of rows for the pattern\n",
    "for x in range(1, r + 1): #loop(outer) for each row (from 1 to \"r\")\n",
    "    for y in range(1, x + 1): # loop(inner) for each column in the current row (from 1 to current row number)\n",
    "        print(x * y, end=' ') # output of the product of the row and column index, with a space after (no newline))\n",
    "    print() # Printing a newline after a completion of each row"
   ]
  },
  {
   "cell_type": "markdown",
   "id": "4454aa94",
   "metadata": {},
   "source": [
    "5. Palindrome Checker"
   ]
  },
  {
   "cell_type": "code",
   "execution_count": null,
   "id": "9e65de4b",
   "metadata": {},
   "outputs": [
    {
     "name": "stdout",
     "output_type": "stream",
     "text": [
      "True\n",
      "True\n",
      "False\n"
     ]
    }
   ],
   "source": [
    "def is_palindrome(word):\n",
    "    cleaned_word = ''.join(word.lower().split()) # Remove all spaces and convert the word to lowercase\n",
    "    reversed_word = ''# Initializing an empty string \n",
    "    # Loop through the cleaned word and build the reversed word\n",
    "    for i in range(len(cleaned_word) - 1, -1, -1):\n",
    "        reversed_word += cleaned_word[i] \n",
    "    # Check if the original cleaned word and the reversed word are the same\n",
    "    if cleaned_word == reversed_word:\n",
    "        return True  # It's a palindrome if they are the same\n",
    "    else:\n",
    "        return False  # It's not a palindrome if they are different\n",
    "print(is_palindrome(\"22, Ana ,22\"))  # Output true\n",
    "print(is_palindrome(\"neveR  odd OR EvEN\"))     # Output true\n",
    "print(is_palindrome(\"These assignments are so tricky, they help us to think more\"))# Output: false"
   ]
  }
 ],
 "metadata": {
  "kernelspec": {
   "display_name": "Python 3",
   "language": "python",
   "name": "python3"
  },
  "language_info": {
   "codemirror_mode": {
    "name": "ipython",
    "version": 3
   },
   "file_extension": ".py",
   "mimetype": "text/x-python",
   "name": "python",
   "nbconvert_exporter": "python",
   "pygments_lexer": "ipython3",
   "version": "3.12.6"
  }
 },
 "nbformat": 4,
 "nbformat_minor": 5
}
