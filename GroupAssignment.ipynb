{
 "cells": [
  {
   "cell_type": "markdown",
   "metadata": {},
   "source": [
    "Group members\n",
    "-Nubuhoro Divine 673390\n",
    "-Igiraneza Eliphaz 673344\n",
    "-viola awuor okello 673013\n",
    "-Manuela Atuhurire -667294\n",
    "-Maker penom - 673168\n",
    "-grace muguna"
   ]
  },
  {
   "cell_type": "code",
   "execution_count": 4,
   "metadata": {},
   "outputs": [
    {
     "name": "stdout",
     "output_type": "stream",
     "text": [
      "Input Scores: [56, 89, 90, 10]\n",
      "Grade Counts: {'A': 1, 'B': 1, 'C': 0, 'D': 0, 'F': 2}\n"
     ]
    }
   ],
   "source": [
    "def classify_grades():\n",
    "    # Prompt the user for input\n",
    "    scores = input(\"Enter the list of scores separated by spaces: \")\n",
    "    \n",
    "    # Convert the input string into a list of integers\n",
    "    scores = list(map(int, scores.split()))\n",
    "    \n",
    "    # Initialize grade counts\n",
    "    grade_counts = {\"A\": 0, \"B\": 0, \"C\": 0, \"D\": 0, \"F\": 0}\n",
    "    \n",
    "    # Classify each score into grades\n",
    "    for score in scores:\n",
    "        if 90 <= score <= 100:\n",
    "            grade_counts[\"A\"] += 1\n",
    "        elif 80 <= score <= 89:\n",
    "            grade_counts[\"B\"] += 1\n",
    "        elif 70 <= score <= 79:\n",
    "            grade_counts[\"C\"] += 1\n",
    "        elif 60 <= score <= 69:\n",
    "            grade_counts[\"D\"] += 1\n",
    "        else:\n",
    "            grade_counts[\"F\"] += 1\n",
    "    \n",
    "    # Print the input scores and the grade counts\n",
    "    print(\"Input Scores:\", scores)\n",
    "    print(\"Grade Counts:\", grade_counts)\n",
    "\n",
    "# Call the function\n",
    "classify_grades()\n"
   ]
  }
 ],
 "metadata": {
  "kernelspec": {
   "display_name": "Python 3",
   "language": "python",
   "name": "python3"
  },
  "language_info": {
   "codemirror_mode": {
    "name": "ipython",
    "version": 3
   },
   "file_extension": ".py",
   "mimetype": "text/x-python",
   "name": "python",
   "nbconvert_exporter": "python",
   "pygments_lexer": "ipython3",
   "version": "3.12.6"
  }
 },
 "nbformat": 4,
 "nbformat_minor": 5
}
