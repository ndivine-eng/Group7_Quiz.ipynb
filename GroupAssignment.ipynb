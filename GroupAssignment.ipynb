{
 "cells": [
  {
   "cell_type": "markdown",
   "metadata": {},
   "source": [
    "Group members\n",
    "-Nubuhoro Divine 673390\n",
    "-Igiraneza Eliphaz 673344\n",
    "-viola awuor okello 673013\n",
    "-Manuela Atuhurire -667294\n",
    "-Maker Panom - 673168\n",
    "-Grace Muguna"
   ]
  },

# Question two 

#finding the first 10 prime number
def is_prime(num):
    if num < 2:
        return False
    for i in range(2, int(num ** 0.5) + 1): #check divisibility from 2 up to 
        if num % i == 0: ## If num is divisible by i, it's not prime
            return False
    return True

def find_primes(n):
    primes = []
    num = 2
    while len(primes) < n:
        if is_prime(num):
            primes.append(num)
        num += 1
    return primes

# Example usage
print(find_primes(10))
  {
   "cell_type": "markdown",
   "id": "b8768eba",
   "metadata": {},
   "source": [
    " Password Validator"
   ]
  },
  {
   "cell_type": "code",
   "execution_count": 7,
   "id": "0a16c1fc",
   "metadata": {},
   "outputs": [
    {
     "name": "stdout",
     "output_type": "stream",
     "text": [
      "True\n",
      "False\n",
      "False\n"
     ]
    }
   ],
   "source": [
    "\n",
    "def is_valid_password(password): # it check if the password has at least 8 characters\n",
    "    if len(password) < 8:\n",
    "        return False  # it will return false if the characters are less than 8 characters\n",
    "    check_upper = any(c.isupper() for c in password) # it check at least if there is one character that is uppercase\n",
    "    check_digit = any(c.isdigit() for c in password) # it check at least if there is one character that is number\n",
    "    check_special = any(c in \"!@#$%^&*\" for c in password) # it check for at least if there is one special character\n",
    "    return check_upper and check_digit and check_special # it will return true if all the conditions are met\n",
    "\n",
    "print(is_valid_password(\"Manuella@7\")) # it will print true because all the conditions are met\n",
    "print(is_valid_password(\"Divine\")) # it will print false because there is no number\n",
    "print(is_valid_password(\"Midda@1\")) # it will print false because the characters are less than 8"
   ]
  },
  {
   "cell_type": "code",
   "execution_count": null,
   "id": "3d60d13d",
   "metadata": {},
   "outputs": [],
   "source": []
  }
 ],
 "metadata": {
  "kernelspec": {
   "display_name": "Python 3",
   "language": "python",
   "name": "python3"
  },
  "language_info": {
   "codemirror_mode": {
    "name": "ipython",
    "version": 3
   },
   "file_extension": ".py",
   "mimetype": "text/x-python",
   "name": "python",
   "nbconvert_exporter": "python",
   "pygments_lexer": "ipython3",
   "version": "3.13.2"
  }
 },
 "nbformat": 4,
 "nbformat_minor": 5
}
