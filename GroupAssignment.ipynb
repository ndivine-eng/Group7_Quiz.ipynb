{
 "cells": [
  {
   "cell_type": "markdown",
   "metadata": {},
   "source": [
    "Group members\n",
    "- Nubuhoro Divine 673390\n",
    "- Igiraneza Eliphaz 673344\n",
    "- Viola Awuor Okello 673013\n",
    "- Manuela Atuhurire 667294\n",
    "- Maker Panom 673168\n",
    "- Grace Muguna"
   ]
  },
  {
   "cell_type": "markdown",
   "id": "b8768eba",
   "metadata": {},
   "source": [
    "# Question Two: Finding the First 10 Prime Numbers"
   ]
  },
  {
   "cell_type": "code",
   "execution_count": 1,
   "id": "0a16c1fc",
   "metadata": {},
   "outputs": [
    {
     "name": "stdout",
     "output_type": "stream",
     "text": [
      "The first 10 prime numbers are:\n",
      "[2, 3, 5, 7, 11, 13, 17, 19, 23, 29]"
     ]
    }
   ],
   "source": [
    "def is_prime(num):\n",
    "    if num < 2:\n",
    "        return False\n",
    "    for i in range(2, int(num ** 0.5) + 1):\n",
    "        if num % i == 0:\n",
    "            return False\n",
    "    return True\n",
    "\n",
    "def find_primes(n):\n",
    "    primes = []\n",
    "    num = 2\n",
    "    while len(primes) < n:\n",
    "        if is_prime(num):\n",
    "            primes.append(num)\n",
    "        num += 1\n",
    "    return primes\n",
    "\n",
    "# Find the first 10 prime numbers\n",
    "primes = find_primes(10)\n",
    "print(\"The first 10 prime numbers are:\", primes)"
   ]
  },
  {
   "cell_type": "markdown",
   "id": "b8768eba",
   "metadata": {},
   "source": [
    "# Password Validator"
   ]
  },
  {
   "cell_type": "code",
   "execution_count": 2,
   "id": "0a16c1fc",
   "metadata": {},
   "outputs": [
    {
     "name": "stdout",
     "output_type": "stream",
     "text": [
      "True\n",
      "False\n",
      "False\n"
     ]
    }
   ],
   "source": [
    
def is_valid_password(password): # it check if the password has at least 8 characters
    if len(password) < 8:
        return False  # it will return false if the characters are less than 8 characters
    check_upper = any(c.isupper() for c in password) # it check at least if there is one character that is uppercase
    check_digit = any(c.isdigit() for c in password) # it check at least if there is one character that is number
    check_special = any(c in "!@#$%^&*" for c in password) # it check for at least if there is one special character
    return check_upper and check_digit and check_special # it will return true if all the conditions are met

print(is_valid_password("Manuella@7")) # it will print true because all the conditions are met
print(is_valid_password("Divine")) # it will print false because there is no number
print(is_valid_password("Midda@1")) # it will print false because the characters are less than 8
   ]
  }
 ],
 "metadata": {
  "kernelspec": {
   "display_name": "Python 3",
   "language": "python",
   "name": "python3"
  },
  "language_info": {
   "codemirror_mode": {
    "name": "ipython",
    "version": 3
   },
   "file_extension": ".py",
   "mimetype": "text/x-python",
   "name": "python",
   "nbconvert_exporter": "python",
   "pygments_lexer": "ipython3",
   "version": "3.13.2"
  }
 },
 "nbformat": 4,
 "nbformat_minor": 5
}
